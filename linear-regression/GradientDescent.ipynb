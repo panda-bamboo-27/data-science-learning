{
 "cells": [
  {
   "cell_type": "markdown",
   "metadata": {},
   "source": [
    "# Gradient Descent\n",
    "\n",
    "## Referensi\n",
    "http://jonsharing.blogspot.com/2017/04/ordinary-gradient-descent-menemukan.html\n",
    "\n",
    "Metode lainnya untuk menentukan fungsi regresi linear adalah dengan metode gradient descent. Dimana didapatkan dari iterasi"
   ]
  }
 ],
 "metadata": {
  "language_info": {
   "name": "python"
  }
 },
 "nbformat": 4,
 "nbformat_minor": 2
}
