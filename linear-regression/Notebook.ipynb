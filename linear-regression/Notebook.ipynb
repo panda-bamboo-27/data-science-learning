{
 "cells": [
  {
   "cell_type": "markdown",
   "metadata": {},
   "source": [
    "# **LINEAR REGRESSION**\n",
    "Linear Regression berarti metode regresi dengan jumlah satu variabel dependen y dan satu variabel independen x (predictor variables)\n",
    "\n",
    "**Asumsi** (https://medium.com/@ayoakinkugbe/when-to-use-linear-regression-6b7057ebd01f)\n",
    "\n",
    "## **Fungsi**\n",
    "\n",
    "y^ = a + bx\n",
    "\n",
    "y^ = nilai y dalam hal ini garis regresi\n",
    "\n",
    "a = intercept\n",
    "\n",
    "b = slope\n",
    "\n",
    "x = independent variable (predictor variables)\n",
    "\n",
    "\n",
    "## **Formulasi**\n",
    "Dalam menentukan linear regresi hal yang paling penting adalah mencari konstanta a (intercept) dan b (slope) dengan nilai minimum.\n",
    "\n",
    "Sebagai contoh data scatter berikut"
   ]
  },
  {
   "cell_type": "code",
   "execution_count": 13,
   "metadata": {},
   "outputs": [
    {
     "data": {
      "image/png": "[encoded data removed]",
      "text/plain": [
       "<Figure size 640x480 with 1 Axes>"
      ]
     },
     "metadata": {},
     "output_type": "display_data"
    }
   ],
   "source": [
    "import matplotlib.pyplot as plt\n",
    "import numpy as np\n",
    "\n",
    "# Data for plotting\n",
    "x = np.array([4,8,12,16,20,24,28,32])\n",
    "y = np.array([25,27,29,31,32.5,35,36,37])\n",
    "\n",
    "# plot\n",
    "fig, ax = plt.subplots()\n",
    "\n",
    "ax.scatter(x, y)\n",
    "ax.set_xlabel('x')\n",
    "ax.set_ylabel('y')\n",
    "ax.set_title('Example Data')\n",
    "\n",
    "plt.show()\n"
   ]
  },
  {
   "cell_type": "markdown",
   "metadata": {},
   "source": [
    "Kemudian ditarik garis linear fungsi y^ (y2) dengan asumsi hubungan x dan y terwakili dengan garis tersebut. Garis ini dibuat hanya sebagai ilustrasi untuk membantu melakukan formulasi."
   ]
  },
  {
   "cell_type": "code",
   "execution_count": null,
   "metadata": {},
   "outputs": [],
   "source": [
    "\n",
    "\n",
    "y2 = np.array([26.5,\n",
    "               (26.5 + 3),\n",
    "               (26.5 + (3*2)),\n",
    "               (26.5 + (3*3)),\n",
    "               (26.5 + (3*4)),\n",
    "               (26.5 + (3*5)),\n",
    "               (26.5 + (3*6)),\n",
    "               (26.5 + (3*7)),\n",
    "               (26.5 + (3*8))])\n",
    "\n",
    "def plot_error_y(ax, x,y,y2):\n",
    "    i = 0\n",
    "    for point in x:\n",
    "        bottom = y2[i] if y[i] > y2[i] else y[i]\n",
    "        ax.bar(point,abs(y2[i]-y[i]),.02,bottom,color='tab:red')\n",
    "        ax.annotate(\"e\" + str(i) ,xy=(point,bottom + (abs(y2[i]-y[i]))/2))\n",
    "        i = i + 1\n",
    "        \n",
    "# plot\n",
    "fig, ax = plt.subplots()\n",
    "\n",
    "plot_error_y(ax,x,y,y2)\n",
    "ax.scatter(x, y)\n",
    "ax.plot(x, y2, 'xkcd:crimson')\n",
    "ax.annotate(\"y2\" ,xy=((x[0]+x[len(x)-1])/2,(y2[0]+y2[len(x)-1])/2 + 2))\n",
    "\n"
   ]
  },
  {
   "cell_type": "markdown",
   "metadata": {},
   "source": [
    "Grafik yang dihasilkan sebelumnya menggambarkan selisih antara titik-titik fungsi y2 dengan titik-titik variabel independent ditandai dengan garis merah. Hal inilah yang dimaksud dengan error atau kesalahan **error (e1,e2,...,en)**.\n",
    "\n",
    "Permasalahan pada regresi linier adalah bagaimana mendapatkan nilai minimum dari error sehingga dihasilkan model yang lebih akurat. Maka optimasi fungsi dilakukan dengan formulasi berikut:\n",
    "\n",
    "Persamaan Regresi Linier\n",
    "\n",
    "y^2 = ax + b\n",
    "\n",
    "Persamaan Error (Selisih)\n",
    "\n",
    "error = y^2-y\n",
    "\n",
    "error = (ax+b) - y ... (1)\n",
    "\n",
    "Kemudian Persamaan (1) dikuadratkan untuk mencari **squared error** (SE)\n",
    "\n",
    "squared_error = ((ax+b) - y)^2 ... (2)\n",
    "\n",
    "Karna terdapat banyak instance pada dataset (1), maka seluruh error dijumlahkan (summation) didapatkan **Sum Squared Error** (SSE)\n",
    "\n",
    "SSE = (ax_i+b - y_i)^2 + ... +  (ax_n+b - y_n)^2 ... (3)\n",
    "\n",
    "Selanjutnya adalah bagaimana mendapatkan error dengan nilai minimum. Untuk mencari nilai minimum suatu fungsi, maka turunan pertama harus bernilai 0. Dalam hal ini dilakukan turunan parsial terhadap a dan b. Turunan rumus dapat dilihat di.\n",
    "\n",
    "https://fisikaveritas.blogspot.com/2013/06/penurunan-rumus-metode-kuadrat-terkecil.html\n",
    "\n",
    "## Formula\n",
    "\n",
    "y2 = a + bx\n",
    "\n",
    "a (intercept) = sum(y)*sum(x^2) - sum(x)*sum(xy) / n*sum(x^2) - sum(x)^2\n",
    "\n",
    "b (slope) = n*sum(xy) - sum(x)*sum(y) / n*sum(x^2) - sum(x)^2 \n",
    "\n",
    "x = independent variable\n",
    "\n",
    "Script from scratch:"
   ]
  },
  {
   "cell_type": "code",
   "execution_count": null,
   "metadata": {},
   "outputs": [
    {
     "name": "stdout",
     "output_type": "stream",
     "text": [
      "[np.float64(25.375), np.float64(27.142857142857142), np.float64(28.910714285714285), np.float64(30.67857142857143), np.float64(32.44642857142857), np.float64(34.214285714285715), np.float64(35.98214285714286), np.float64(37.75)]\n"
     ]
    }
   ],
   "source": [
    "\n",
    "# Formula: \n",
    "# y2 = a + bx\n",
    "# a (intercept) = sum(y)*sum(x^2) - sum(x)*sum(xy) / n*sum(x^2) - sum(x)^2\n",
    "# b (slope) = n*sum(xy) - sum(x)*sum(y) / n*sum(x^2) - sum(x)^2 \n",
    "# x = independent variable\n",
    "\n",
    "def regression_intercept_slope(x,y):\n",
    "    sum_y = np.sum(y)\n",
    "    sum_x = np.sum(x)\n",
    "    sum_x_power = np.sum(np.power(x,2))\n",
    "    sum_xy = np.sum(np.multiply(x,y))\n",
    "\n",
    "    #size of data\n",
    "    n = len(x)\n",
    "\n",
    "    # intercept\n",
    "    a = ((sum_y * sum_x_power) - (sum_x * sum_xy)) / ((n*sum_x_power) - (sum_x * sum_x))\n",
    "\n",
    "    # slope\n",
    "    b = ((n*sum_xy) - (sum_x*sum_y)) / (n*sum_x_power - (sum_x * sum_x))\n",
    "\n",
    "    return (a,b)\n",
    "\n",
    "\n",
    "\n",
    "# x,y defined in the first code section\n",
    "# Now we can find the optimum regression intercept and slope for y2\n",
    "intercept, slope = regression_intercept_slope(x,y)\n",
    "\n",
    "y2 = []\n",
    "\n",
    "for point in x:\n",
    "    y2.append(intercept + (slope * point))\n",
    "\n",
    "print (y2)\n"
   ]
  },
  {
   "cell_type": "markdown",
   "metadata": {},
   "source": [
    "**Regresi linier merupakan metode regresi dengan garis lurus yang mencari nilai error minimum**"
   ]
  }
 ],
 "metadata": {
  "kernelspec": {
   "display_name": ".venv",
   "language": "python",
   "name": "python3"
  },
  "language_info": {
   "codemirror_mode": {
    "name": "ipython",
    "version": 3
   },
   "file_extension": ".py",
   "mimetype": "text/x-python",
   "name": "python",
   "nbconvert_exporter": "python",
   "pygments_lexer": "ipython3",
   "version": "3.12.3"
  }
 },
 "nbformat": 4,
 "nbformat_minor": 2
}
